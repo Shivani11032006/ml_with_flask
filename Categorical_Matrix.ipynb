{
  "nbformat": 4,
  "nbformat_minor": 0,
  "metadata": {
    "colab": {
      "provenance": [],
      "authorship_tag": "ABX9TyNQHBF0Da+jiTo0KSu4a1WD",
      "include_colab_link": true
    },
    "kernelspec": {
      "name": "python3",
      "display_name": "Python 3"
    },
    "language_info": {
      "name": "python"
    }
  },
  "cells": [
    {
      "cell_type": "markdown",
      "metadata": {
        "id": "view-in-github",
        "colab_type": "text"
      },
      "source": [
        "<a href=\"https://colab.research.google.com/github/Shivani11032006/ml_with_flask/blob/main/Categorical_Matrix.ipynb\" target=\"_parent\"><img src=\"https://colab.research.google.com/assets/colab-badge.svg\" alt=\"Open In Colab\"/></a>"
      ]
    },
    {
      "cell_type": "code",
      "execution_count": 1,
      "metadata": {
        "id": "kph-_agdTDY7"
      },
      "outputs": [],
      "source": [
        "from sklearn import metrics"
      ]
    },
    {
      "cell_type": "code",
      "source": [
        "B=\"Bat\"\n",
        "C=\"Cat\"\n",
        "D=\"Donkey\"\n",
        "E=\"Elephant\""
      ],
      "metadata": {
        "id": "Quh0pFwmTSzw"
      },
      "execution_count": 2,
      "outputs": []
    },
    {
      "cell_type": "code",
      "source": [
        "y_true=[B,B,B,B,B,B,D,D,D,D,D,D,C,C,C,C,C,C,C,C,E,E,E,E,E,E,E,E]\n",
        "y_pred=[B,B,B,B,C,C,C,C,E,E,D,D,D,D,E,E,E,D,B,B,E,E,E,E,E,E,D,D]"
      ],
      "metadata": {
        "id": "7E97yTn9Tg9H"
      },
      "execution_count": 4,
      "outputs": []
    },
    {
      "cell_type": "code",
      "source": [
        "print(metrics.classification_report(y_true,y_pred,digits=4))"
      ],
      "metadata": {
        "colab": {
          "base_uri": "https://localhost:8080/"
        },
        "id": "8Q-86wFxUYOr",
        "outputId": "492ba034-c655-4a19-c0d6-db1fd33f6090"
      },
      "execution_count": 5,
      "outputs": [
        {
          "output_type": "stream",
          "name": "stdout",
          "text": [
            "              precision    recall  f1-score   support\n",
            "\n",
            "         Bat     0.6667    0.6667    0.6667         6\n",
            "         Cat     0.0000    0.0000    0.0000         8\n",
            "      Donkey     0.2857    0.3333    0.3077         6\n",
            "    Elephant     0.5455    0.7500    0.6316         8\n",
            "\n",
            "    accuracy                         0.4286        28\n",
            "   macro avg     0.3745    0.4375    0.4015        28\n",
            "weighted avg     0.3599    0.4286    0.3892        28\n",
            "\n"
          ]
        }
      ]
    }
  ]
}